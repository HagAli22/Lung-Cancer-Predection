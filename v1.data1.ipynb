{
 "cells": [
  {
   "cell_type": "code",
   "execution_count": 7,
   "id": "85ead628",
   "metadata": {
    "scrolled": true
   },
   "outputs": [],
   "source": [
    "import tensorflow as tf\n",
    "from tensorflow.keras.preprocessing.image import ImageDataGenerator"
   ]
  },
  {
   "cell_type": "code",
   "execution_count": 8,
   "id": "21a2be6a",
   "metadata": {},
   "outputs": [],
   "source": [
    "path='canser_dataset/training_set'"
   ]
  },
  {
   "cell_type": "code",
   "execution_count": 9,
   "id": "f4e7c4ed",
   "metadata": {},
   "outputs": [
    {
     "name": "stdout",
     "output_type": "stream",
     "text": [
      "Found 612 images belonging to 4 classes.\n"
     ]
    }
   ],
   "source": [
    "# Training\n",
    "train_datagen = ImageDataGenerator(\n",
    "    rescale=1. / 255,\n",
    "    shear_range=0.2,\n",
    "    zoom_range=0.2,\n",
    "    horizontal_flip=True)\n",
    "training_set = train_datagen.flow_from_directory(\n",
    "    'cancer_dataset/training_set',\n",
    "    target_size=(64, 64),\n",
    "    batch_size=32,\n",
    "    class_mode='categorical')"
   ]
  },
  {
   "cell_type": "code",
   "execution_count": 10,
   "id": "4688139c",
   "metadata": {},
   "outputs": [
    {
     "name": "stdout",
     "output_type": "stream",
     "text": [
      "Found 315 images belonging to 4 classes.\n"
     ]
    }
   ],
   "source": [
    "# Test\n",
    "test_datagen = ImageDataGenerator(rescale=1./255)\n",
    "test_set = test_datagen.flow_from_directory(\n",
    "    'cancer_dataset/test_set',\n",
    "    target_size=(64, 64),\n",
    "    batch_size=32,\n",
    "    class_mode='categorical')"
   ]
  },
  {
   "cell_type": "code",
   "execution_count": 11,
   "id": "366ba0b4",
   "metadata": {},
   "outputs": [],
   "source": [
    "# Initialising the CNN\n",
    "cnn = tf.keras.models.Sequential()"
   ]
  },
  {
   "cell_type": "code",
   "execution_count": 12,
   "id": "ae8fc157",
   "metadata": {},
   "outputs": [
    {
     "name": "stderr",
     "output_type": "stream",
     "text": [
      "c:\\Users\\Matrix Store\\AppData\\Local\\Programs\\Python\\Python311\\Lib\\site-packages\\keras\\src\\layers\\convolutional\\base_conv.py:99: UserWarning: Do not pass an `input_shape`/`input_dim` argument to a layer. When using Sequential models, prefer using an `Input(shape)` object as the first layer in the model instead.\n",
      "  super().__init__(\n"
     ]
    }
   ],
   "source": [
    "# Step1 - Convolution\n",
    "cnn.add(tf.keras.layers.Conv2D(\n",
    "    filters=32,\n",
    "    kernel_size=3,\n",
    "    activation='relu',\n",
    "    input_shape=[64, 64, 3]))"
   ]
  },
  {
   "cell_type": "code",
   "execution_count": 13,
   "id": "82fd3cbe",
   "metadata": {},
   "outputs": [],
   "source": [
    "# Step2 - Pooling\n",
    "cnn.add(tf.keras.layers.MaxPool2D(pool_size=2, strides=2))"
   ]
  },
  {
   "cell_type": "code",
   "execution_count": 14,
   "id": "b7f5a2ee",
   "metadata": {},
   "outputs": [],
   "source": [
    "# 2nd Convolutional layer\n",
    "cnn.add(tf.keras.layers.Conv2D(\n",
    "    filters=32,\n",
    "    kernel_size=3,\n",
    "    activation='relu'))\n",
    "cnn.add(tf.keras.layers.MaxPool2D(pool_size=2, strides=2))"
   ]
  },
  {
   "cell_type": "code",
   "execution_count": 15,
   "id": "13de9818",
   "metadata": {},
   "outputs": [],
   "source": [
    "# 3rd Convolutional layer\n",
    "cnn.add(tf.keras.layers.Conv2D(\n",
    "    filters=32,\n",
    "    kernel_size=3,\n",
    "    activation='relu'))\n",
    "cnn.add(tf.keras.layers.MaxPool2D(pool_size=2, strides=2))"
   ]
  },
  {
   "cell_type": "code",
   "execution_count": 16,
   "id": "1630cc46",
   "metadata": {},
   "outputs": [],
   "source": [
    "# Step3 - Fallenting\n",
    "cnn.add(tf.keras.layers.Flatten())"
   ]
  },
  {
   "cell_type": "code",
   "execution_count": 17,
   "id": "8318f27d",
   "metadata": {},
   "outputs": [],
   "source": [
    "# Step4 - Full Connection\n",
    "cnn.add(tf.keras.layers.Dense(units=128, activation='relu'))"
   ]
  },
  {
   "cell_type": "code",
   "execution_count": 18,
   "id": "9b01314e",
   "metadata": {},
   "outputs": [],
   "source": [
    "# Step5 - Output Layer\n",
    "cnn.add(tf.keras.layers.Dense(units=4, activation='softmax'))"
   ]
  },
  {
   "cell_type": "code",
   "execution_count": 19,
   "id": "e611939b",
   "metadata": {},
   "outputs": [],
   "source": [
    "# Compile the CNN\n",
    "cnn.compile(optimizer='adam', loss='categorical_crossentropy', metrics=['categorical_accuracy'])"
   ]
  },
  {
   "cell_type": "code",
   "execution_count": 20,
   "id": "d937bec0",
   "metadata": {},
   "outputs": [
    {
     "name": "stdout",
     "output_type": "stream",
     "text": [
      "Epoch 1/25\n"
     ]
    },
    {
     "name": "stderr",
     "output_type": "stream",
     "text": [
      "c:\\Users\\Matrix Store\\AppData\\Local\\Programs\\Python\\Python311\\Lib\\site-packages\\keras\\src\\trainers\\data_adapters\\py_dataset_adapter.py:122: UserWarning: Your `PyDataset` class should call `super().__init__(**kwargs)` in its constructor. `**kwargs` can include `workers`, `use_multiprocessing`, `max_queue_size`. Do not pass these arguments to `fit()`, as they will be ignored.\n",
      "  self._warn_if_super_not_called()\n"
     ]
    },
    {
     "name": "stdout",
     "output_type": "stream",
     "text": [
      "\u001b[1m20/20\u001b[0m \u001b[32m━━━━━━━━━━━━━━━━━━━━\u001b[0m\u001b[37m\u001b[0m \u001b[1m25s\u001b[0m 838ms/step - categorical_accuracy: 0.3487 - loss: 1.3395 - val_categorical_accuracy: 0.4317 - val_loss: 1.2669\n",
      "Epoch 2/25\n",
      "\u001b[1m20/20\u001b[0m \u001b[32m━━━━━━━━━━━━━━━━━━━━\u001b[0m\u001b[37m\u001b[0m \u001b[1m6s\u001b[0m 223ms/step - categorical_accuracy: 0.4297 - loss: 1.2184 - val_categorical_accuracy: 0.4222 - val_loss: 1.1938\n",
      "Epoch 3/25\n",
      "\u001b[1m20/20\u001b[0m \u001b[32m━━━━━━━━━━━━━━━━━━━━\u001b[0m\u001b[37m\u001b[0m \u001b[1m6s\u001b[0m 234ms/step - categorical_accuracy: 0.4634 - loss: 1.1311 - val_categorical_accuracy: 0.5206 - val_loss: 1.0509\n",
      "Epoch 4/25\n",
      "\u001b[1m20/20\u001b[0m \u001b[32m━━━━━━━━━━━━━━━━━━━━\u001b[0m\u001b[37m\u001b[0m \u001b[1m6s\u001b[0m 256ms/step - categorical_accuracy: 0.5134 - loss: 0.9891 - val_categorical_accuracy: 0.3841 - val_loss: 1.2489\n",
      "Epoch 5/25\n",
      "\u001b[1m20/20\u001b[0m \u001b[32m━━━━━━━━━━━━━━━━━━━━\u001b[0m\u001b[37m\u001b[0m \u001b[1m7s\u001b[0m 297ms/step - categorical_accuracy: 0.6686 - loss: 0.8809 - val_categorical_accuracy: 0.3619 - val_loss: 1.4521\n",
      "Epoch 6/25\n",
      "\u001b[1m20/20\u001b[0m \u001b[32m━━━━━━━━━━━━━━━━━━━━\u001b[0m\u001b[37m\u001b[0m \u001b[1m8s\u001b[0m 293ms/step - categorical_accuracy: 0.6385 - loss: 0.8611 - val_categorical_accuracy: 0.5333 - val_loss: 0.9385\n",
      "Epoch 7/25\n",
      "\u001b[1m20/20\u001b[0m \u001b[32m━━━━━━━━━━━━━━━━━━━━\u001b[0m\u001b[37m\u001b[0m \u001b[1m7s\u001b[0m 264ms/step - categorical_accuracy: 0.6754 - loss: 0.7910 - val_categorical_accuracy: 0.5460 - val_loss: 1.1185\n",
      "Epoch 8/25\n",
      "\u001b[1m20/20\u001b[0m \u001b[32m━━━━━━━━━━━━━━━━━━━━\u001b[0m\u001b[37m\u001b[0m \u001b[1m8s\u001b[0m 306ms/step - categorical_accuracy: 0.7173 - loss: 0.7029 - val_categorical_accuracy: 0.5492 - val_loss: 1.1240\n",
      "Epoch 9/25\n",
      "\u001b[1m20/20\u001b[0m \u001b[32m━━━━━━━━━━━━━━━━━━━━\u001b[0m\u001b[37m\u001b[0m \u001b[1m7s\u001b[0m 265ms/step - categorical_accuracy: 0.7651 - loss: 0.6027 - val_categorical_accuracy: 0.4984 - val_loss: 1.2556\n",
      "Epoch 10/25\n",
      "\u001b[1m20/20\u001b[0m \u001b[32m━━━━━━━━━━━━━━━━━━━━\u001b[0m\u001b[37m\u001b[0m \u001b[1m7s\u001b[0m 282ms/step - categorical_accuracy: 0.7514 - loss: 0.5952 - val_categorical_accuracy: 0.4921 - val_loss: 1.6450\n",
      "Epoch 11/25\n",
      "\u001b[1m20/20\u001b[0m \u001b[32m━━━━━━━━━━━━━━━━━━━━\u001b[0m\u001b[37m\u001b[0m \u001b[1m9s\u001b[0m 374ms/step - categorical_accuracy: 0.7089 - loss: 0.6696 - val_categorical_accuracy: 0.5238 - val_loss: 1.2977\n",
      "Epoch 12/25\n",
      "\u001b[1m20/20\u001b[0m \u001b[32m━━━━━━━━━━━━━━━━━━━━\u001b[0m\u001b[37m\u001b[0m \u001b[1m8s\u001b[0m 331ms/step - categorical_accuracy: 0.7754 - loss: 0.5894 - val_categorical_accuracy: 0.5079 - val_loss: 1.5057\n",
      "Epoch 13/25\n",
      "\u001b[1m20/20\u001b[0m \u001b[32m━━━━━━━━━━━━━━━━━━━━\u001b[0m\u001b[37m\u001b[0m \u001b[1m8s\u001b[0m 296ms/step - categorical_accuracy: 0.8042 - loss: 0.4931 - val_categorical_accuracy: 0.4984 - val_loss: 1.7078\n",
      "Epoch 14/25\n",
      "\u001b[1m20/20\u001b[0m \u001b[32m━━━━━━━━━━━━━━━━━━━━\u001b[0m\u001b[37m\u001b[0m \u001b[1m7s\u001b[0m 268ms/step - categorical_accuracy: 0.7819 - loss: 0.5446 - val_categorical_accuracy: 0.5302 - val_loss: 1.7955\n",
      "Epoch 15/25\n",
      "\u001b[1m20/20\u001b[0m \u001b[32m━━━━━━━━━━━━━━━━━━━━\u001b[0m\u001b[37m\u001b[0m \u001b[1m7s\u001b[0m 288ms/step - categorical_accuracy: 0.7991 - loss: 0.4932 - val_categorical_accuracy: 0.5492 - val_loss: 1.7977\n",
      "Epoch 16/25\n",
      "\u001b[1m20/20\u001b[0m \u001b[32m━━━━━━━━━━━━━━━━━━━━\u001b[0m\u001b[37m\u001b[0m \u001b[1m8s\u001b[0m 331ms/step - categorical_accuracy: 0.7984 - loss: 0.4893 - val_categorical_accuracy: 0.5302 - val_loss: 1.5605\n",
      "Epoch 17/25\n",
      "\u001b[1m20/20\u001b[0m \u001b[32m━━━━━━━━━━━━━━━━━━━━\u001b[0m\u001b[37m\u001b[0m \u001b[1m7s\u001b[0m 292ms/step - categorical_accuracy: 0.8088 - loss: 0.4460 - val_categorical_accuracy: 0.5778 - val_loss: 1.4311\n",
      "Epoch 18/25\n",
      "\u001b[1m20/20\u001b[0m \u001b[32m━━━━━━━━━━━━━━━━━━━━\u001b[0m\u001b[37m\u001b[0m \u001b[1m8s\u001b[0m 299ms/step - categorical_accuracy: 0.7852 - loss: 0.4584 - val_categorical_accuracy: 0.5206 - val_loss: 2.0597\n",
      "Epoch 19/25\n",
      "\u001b[1m20/20\u001b[0m \u001b[32m━━━━━━━━━━━━━━━━━━━━\u001b[0m\u001b[37m\u001b[0m \u001b[1m9s\u001b[0m 349ms/step - categorical_accuracy: 0.8665 - loss: 0.3593 - val_categorical_accuracy: 0.5556 - val_loss: 1.8077\n",
      "Epoch 20/25\n",
      "\u001b[1m20/20\u001b[0m \u001b[32m━━━━━━━━━━━━━━━━━━━━\u001b[0m\u001b[37m\u001b[0m \u001b[1m8s\u001b[0m 342ms/step - categorical_accuracy: 0.7933 - loss: 0.4244 - val_categorical_accuracy: 0.5587 - val_loss: 1.6043\n",
      "Epoch 21/25\n",
      "\u001b[1m20/20\u001b[0m \u001b[32m━━━━━━━━━━━━━━━━━━━━\u001b[0m\u001b[37m\u001b[0m \u001b[1m9s\u001b[0m 337ms/step - categorical_accuracy: 0.8699 - loss: 0.3789 - val_categorical_accuracy: 0.5302 - val_loss: 2.0134\n",
      "Epoch 22/25\n",
      "\u001b[1m20/20\u001b[0m \u001b[32m━━━━━━━━━━━━━━━━━━━━\u001b[0m\u001b[37m\u001b[0m \u001b[1m9s\u001b[0m 323ms/step - categorical_accuracy: 0.8779 - loss: 0.3619 - val_categorical_accuracy: 0.4794 - val_loss: 2.5192\n",
      "Epoch 23/25\n",
      "\u001b[1m20/20\u001b[0m \u001b[32m━━━━━━━━━━━━━━━━━━━━\u001b[0m\u001b[37m\u001b[0m \u001b[1m7s\u001b[0m 283ms/step - categorical_accuracy: 0.8908 - loss: 0.2934 - val_categorical_accuracy: 0.5206 - val_loss: 2.3533\n",
      "Epoch 24/25\n",
      "\u001b[1m20/20\u001b[0m \u001b[32m━━━━━━━━━━━━━━━━━━━━\u001b[0m\u001b[37m\u001b[0m \u001b[1m7s\u001b[0m 291ms/step - categorical_accuracy: 0.8677 - loss: 0.3391 - val_categorical_accuracy: 0.4540 - val_loss: 3.0106\n",
      "Epoch 25/25\n",
      "\u001b[1m20/20\u001b[0m \u001b[32m━━━━━━━━━━━━━━━━━━━━\u001b[0m\u001b[37m\u001b[0m \u001b[1m7s\u001b[0m 275ms/step - categorical_accuracy: 0.9074 - loss: 0.2604 - val_categorical_accuracy: 0.5111 - val_loss: 2.5823\n"
     ]
    },
    {
     "data": {
      "text/plain": [
       "<keras.src.callbacks.history.History at 0x275e41b1590>"
      ]
     },
     "execution_count": 20,
     "metadata": {},
     "output_type": "execute_result"
    }
   ],
   "source": [
    "# Training the CNN on the Training set\n",
    "# and evaluation it on the Test set\n",
    "cnn.fit(x = training_set, validation_data=test_set, epochs=25)"
   ]
  },
  {
   "cell_type": "code",
   "execution_count": 31,
   "id": "3188c12d",
   "metadata": {},
   "outputs": [
    {
     "name": "stderr",
     "output_type": "stream",
     "text": [
      "WARNING:absl:You are saving your model as an HDF5 file via `model.save()` or `keras.saving.save_model(model)`. This file format is considered legacy. We recommend using instead the native Keras format, e.g. `model.save('my_model.keras')` or `keras.saving.save_model(model, 'my_model.keras')`. \n"
     ]
    }
   ],
   "source": [
    "cnn.save('model/Version1-Canser-25epochs.h5')"
   ]
  },
  {
   "cell_type": "code",
   "execution_count": 28,
   "id": "87bfd04c",
   "metadata": {},
   "outputs": [
    {
     "name": "stdout",
     "output_type": "stream",
     "text": [
      "\u001b[1m1/1\u001b[0m \u001b[32m━━━━━━━━━━━━━━━━━━━━\u001b[0m\u001b[37m\u001b[0m \u001b[1m0s\u001b[0m 56ms/step\n"
     ]
    }
   ],
   "source": [
    "# Making a Single prediction\n",
    "import numpy as np\n",
    "from keras.preprocessing import image\n",
    "test_image = image.load_img('cancer_dataset/valid/adenocarcinoma_left.lower.lobe_T2_N0_M0_Ib/000115 (5).png', target_size=(64, 64))\n",
    "test_image = image.img_to_array(test_image)\n",
    "test_image = np.expand_dims(test_image, axis=0)\n",
    "result = cnn.predict(test_image)\n",
    "training_set.class_indices\n",
    "if result[0][0] == 0:\n",
    "    prediction = 'Normal'\n",
    "elif result[0][0] == 1:\n",
    "    prediction = 'Adenocarcinoma'\n",
    "elif result[0][0] == 2:\n",
    "    prediction = 'Large carcinoma'\n",
    "elif result[0][0] == 3:\n",
    "    prediction = 'Squanmous carcinoma'"
   ]
  },
  {
   "cell_type": "code",
   "execution_count": 29,
   "id": "34786f71",
   "metadata": {},
   "outputs": [
    {
     "name": "stdout",
     "output_type": "stream",
     "text": [
      "Adenocarcinoma\n"
     ]
    }
   ],
   "source": [
    "# last cell\n",
    "print(prediction)"
   ]
  },
  {
   "cell_type": "code",
   "execution_count": null,
   "id": "9707a49f",
   "metadata": {},
   "outputs": [],
   "source": []
  }
 ],
 "metadata": {
  "kernelspec": {
   "display_name": "Python 3",
   "language": "python",
   "name": "python3"
  },
  "language_info": {
   "codemirror_mode": {
    "name": "ipython",
    "version": 3
   },
   "file_extension": ".py",
   "mimetype": "text/x-python",
   "name": "python",
   "nbconvert_exporter": "python",
   "pygments_lexer": "ipython3",
   "version": "3.11.5"
  }
 },
 "nbformat": 4,
 "nbformat_minor": 5
}
